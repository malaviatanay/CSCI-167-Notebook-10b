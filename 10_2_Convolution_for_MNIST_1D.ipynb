{
  "nbformat": 4,
  "nbformat_minor": 0,
  "metadata": {
    "colab": {
      "provenance": [],
      "include_colab_link": true
    },
    "kernelspec": {
      "name": "python3",
      "display_name": "Python 3"
    },
    "language_info": {
      "name": "python"
    }
  },
  "cells": [
    {
      "cell_type": "markdown",
      "metadata": {
        "id": "view-in-github",
        "colab_type": "text"
      },
      "source": [
        "<a href=\"https://colab.research.google.com/github/malaviatanay/CSCI-167-Notebook-10b/blob/main/10_2_Convolution_for_MNIST_1D.ipynb\" target=\"_parent\"><img src=\"https://colab.research.google.com/assets/colab-badge.svg\" alt=\"Open In Colab\"/></a>"
      ]
    },
    {
      "cell_type": "markdown",
      "source": [
        "# **Notebook 10.2: Convolution for MNIST-1D**\n",
        "\n",
        "This notebook investigates a 1D convolutional network for MNIST-1D as in figure 10.7 and 10.8a.\n",
        "\n",
        "Work through the cells below, running each cell in turn. In various places you will see the words \"TO DO\". Follow the instructions at these places and make predictions about what is going to happen or write code to complete the functions.\n",
        "\n",
        "Contact me at udlbookmail@gmail.com if you find any mistakes or have any suggestions.\n",
        "\n"
      ],
      "metadata": {
        "id": "t9vk9Elugvmi"
      }
    },
    {
      "cell_type": "code",
      "source": [
        "# Run this if you're in a Colab to install MNIST 1D repository\n",
        "!pip install git+https://github.com/greydanus/mnist1d"
      ],
      "metadata": {
        "id": "D5yLObtZCi9J",
        "colab": {
          "base_uri": "https://localhost:8080/"
        },
        "outputId": "d2b5ffaf-2cbb-412e-f6f9-c1ab2cdd52af"
      },
      "execution_count": 11,
      "outputs": [
        {
          "output_type": "stream",
          "name": "stdout",
          "text": [
            "Collecting git+https://github.com/greydanus/mnist1d\n",
            "  Cloning https://github.com/greydanus/mnist1d to /tmp/pip-req-build-qpisl839\n",
            "  Running command git clone --filter=blob:none --quiet https://github.com/greydanus/mnist1d /tmp/pip-req-build-qpisl839\n",
            "  Resolved https://github.com/greydanus/mnist1d to commit 7878d96082abd200c546a07a4101fa90b30fdf7e\n",
            "  Installing build dependencies ... \u001b[?25l\u001b[?25hdone\n",
            "  Getting requirements to build wheel ... \u001b[?25l\u001b[?25hdone\n",
            "  Preparing metadata (pyproject.toml) ... \u001b[?25l\u001b[?25hdone\n",
            "Requirement already satisfied: requests in /usr/local/lib/python3.10/dist-packages (from mnist1d==0.0.2.post16) (2.32.3)\n",
            "Requirement already satisfied: numpy in /usr/local/lib/python3.10/dist-packages (from mnist1d==0.0.2.post16) (1.26.4)\n",
            "Requirement already satisfied: matplotlib in /usr/local/lib/python3.10/dist-packages (from mnist1d==0.0.2.post16) (3.7.1)\n",
            "Requirement already satisfied: scipy in /usr/local/lib/python3.10/dist-packages (from mnist1d==0.0.2.post16) (1.13.1)\n",
            "Requirement already satisfied: contourpy>=1.0.1 in /usr/local/lib/python3.10/dist-packages (from matplotlib->mnist1d==0.0.2.post16) (1.3.0)\n",
            "Requirement already satisfied: cycler>=0.10 in /usr/local/lib/python3.10/dist-packages (from matplotlib->mnist1d==0.0.2.post16) (0.12.1)\n",
            "Requirement already satisfied: fonttools>=4.22.0 in /usr/local/lib/python3.10/dist-packages (from matplotlib->mnist1d==0.0.2.post16) (4.54.1)\n",
            "Requirement already satisfied: kiwisolver>=1.0.1 in /usr/local/lib/python3.10/dist-packages (from matplotlib->mnist1d==0.0.2.post16) (1.4.7)\n",
            "Requirement already satisfied: packaging>=20.0 in /usr/local/lib/python3.10/dist-packages (from matplotlib->mnist1d==0.0.2.post16) (24.1)\n",
            "Requirement already satisfied: pillow>=6.2.0 in /usr/local/lib/python3.10/dist-packages (from matplotlib->mnist1d==0.0.2.post16) (10.4.0)\n",
            "Requirement already satisfied: pyparsing>=2.3.1 in /usr/local/lib/python3.10/dist-packages (from matplotlib->mnist1d==0.0.2.post16) (3.2.0)\n",
            "Requirement already satisfied: python-dateutil>=2.7 in /usr/local/lib/python3.10/dist-packages (from matplotlib->mnist1d==0.0.2.post16) (2.8.2)\n",
            "Requirement already satisfied: charset-normalizer<4,>=2 in /usr/local/lib/python3.10/dist-packages (from requests->mnist1d==0.0.2.post16) (3.4.0)\n",
            "Requirement already satisfied: idna<4,>=2.5 in /usr/local/lib/python3.10/dist-packages (from requests->mnist1d==0.0.2.post16) (3.10)\n",
            "Requirement already satisfied: urllib3<3,>=1.21.1 in /usr/local/lib/python3.10/dist-packages (from requests->mnist1d==0.0.2.post16) (2.2.3)\n",
            "Requirement already satisfied: certifi>=2017.4.17 in /usr/local/lib/python3.10/dist-packages (from requests->mnist1d==0.0.2.post16) (2024.8.30)\n",
            "Requirement already satisfied: six>=1.5 in /usr/local/lib/python3.10/dist-packages (from python-dateutil>=2.7->matplotlib->mnist1d==0.0.2.post16) (1.16.0)\n"
          ]
        }
      ]
    },
    {
      "cell_type": "code",
      "source": [
        "import numpy as np\n",
        "import os\n",
        "import torch, torch.nn as nn\n",
        "from torch.utils.data import TensorDataset, DataLoader\n",
        "from torch.optim.lr_scheduler import StepLR\n",
        "import matplotlib.pyplot as plt\n",
        "import mnist1d\n",
        "import random"
      ],
      "metadata": {
        "id": "YrXWAH7sUWvU"
      },
      "execution_count": 12,
      "outputs": []
    },
    {
      "cell_type": "code",
      "source": [
        "args = mnist1d.data.get_dataset_args()\n",
        "data = mnist1d.data.get_dataset(args, path='./mnist1d_data.pkl', download=False, regenerate=False)\n",
        "\n",
        "# The training and test input and outputs are in\n",
        "# data['x'], data['y'], data['x_test'], and data['y_test']\n",
        "print(\"Examples in training set: {}\".format(len(data['y'])))\n",
        "print(\"Examples in test set: {}\".format(len(data['y_test'])))\n",
        "print(\"Length of each example: {}\".format(data['x'].shape[-1]))"
      ],
      "metadata": {
        "id": "twI72ZCrCt5z",
        "colab": {
          "base_uri": "https://localhost:8080/"
        },
        "outputId": "574d9be9-8e6f-489a-e3e2-79f17c9422e3"
      },
      "execution_count": 13,
      "outputs": [
        {
          "output_type": "stream",
          "name": "stdout",
          "text": [
            "Successfully loaded data from ./mnist1d_data.pkl\n",
            "Examples in training set: 4000\n",
            "Examples in test set: 1000\n",
            "Length of each example: 40\n"
          ]
        }
      ]
    },
    {
      "cell_type": "code",
      "source": [
        "# Load in the data\n",
        "train_data_x = data['x'].transpose()\n",
        "train_data_y = data['y']\n",
        "val_data_x = data['x_test'].transpose()\n",
        "val_data_y = data['y_test']\n",
        "# Print out sizes\n",
        "print(\"Train data: %d examples (columns), each of which has %d dimensions (rows)\"%((train_data_x.shape[1],train_data_x.shape[0])))\n",
        "print(\"Validation data: %d examples (columns), each of which has %d dimensions (rows)\"%((val_data_x.shape[1],val_data_x.shape[0])))"
      ],
      "metadata": {
        "id": "8bKADvLHbiV5",
        "colab": {
          "base_uri": "https://localhost:8080/"
        },
        "outputId": "5dd2cf54-4cea-4987-fd0c-cc95ffa3954d"
      },
      "execution_count": 14,
      "outputs": [
        {
          "output_type": "stream",
          "name": "stdout",
          "text": [
            "Train data: 4000 examples (columns), each of which has 40 dimensions (rows)\n",
            "Validation data: 1000 examples (columns), each of which has 40 dimensions (rows)\n"
          ]
        }
      ]
    },
    {
      "cell_type": "markdown",
      "source": [
        "Define the network"
      ],
      "metadata": {
        "id": "_sFvRDGrl4qe"
      }
    },
    {
      "cell_type": "code",
      "source": [
        "# There are 40 input dimensions and 10 output dimensions for this data\n",
        "# The inputs correspond to the 40 offsets in the MNIST1D template.\n",
        "D_i = 40\n",
        "# The outputs correspond to the 10 digits\n",
        "D_o = 10\n",
        "\n",
        "\n",
        "# TODO Create a model with the following layers\n",
        "# 1. Convolutional layer, (input=length 40 and 1 channel, kernel size 3, stride 2, padding=\"valid\", 15 output channels )\n",
        "# 2. ReLU\n",
        "# 3. Convolutional layer, (input=length 19 and 15 channels, kernel size 3, stride 2, padding=\"valid\", 15 output channels )\n",
        "# 4. ReLU\n",
        "# 5. Convolutional layer, (input=length 9 and 15 channels, kernel size 3, stride 2, padding=\"valid\", 15 output channels)\n",
        "# 6. ReLU\n",
        "# 7. Flatten (converts 4x15) to length 60\n",
        "# 8. Linear layer (input size = 60, output size = 10)\n",
        "# References:\n",
        "# https://pytorch.org/docs/1.13/generated/torch.nn.Conv1d.html?highlight=conv1d#torch.nn.Conv1d\n",
        "# https://pytorch.org/docs/stable/generated/torch.nn.Flatten.html\n",
        "# https://pytorch.org/docs/1.13/generated/torch.nn.Linear.html?highlight=linear#torch.nn.Linear\n",
        "\n",
        "# NOTE THAT THE CONVOLUTIONAL LAYERS NEED TO TAKE THE NUMBER OF INPUT CHANNELS AS A PARAMETER\n",
        "# AND NOT THE INPUT SIZE.\n",
        "\n",
        "# Replace the following function:\n",
        "model = nn.Sequential(\n",
        "    nn.Conv1d(in_channels=1, out_channels=15, kernel_size=3, stride=2, padding=0),\n",
        "    nn.ReLU(),\n",
        "    nn.Conv1d(in_channels=15, out_channels=15, kernel_size=3, stride=2, padding=0),\n",
        "    nn.ReLU(),\n",
        "    nn.Conv1d(in_channels=15, out_channels=15, kernel_size=3, stride=2, padding=0),\n",
        "    nn.ReLU(),\n",
        "    nn.Flatten(),\n",
        "    nn.Linear(60,10)\n",
        ")\n"
      ],
      "metadata": {
        "id": "FslroPJJffrh"
      },
      "execution_count": 15,
      "outputs": []
    },
    {
      "cell_type": "code",
      "source": [
        "# He initialization of weights\n",
        "def weights_init(layer_in):\n",
        "  if isinstance(layer_in, nn.Linear):\n",
        "    nn.init.kaiming_uniform_(layer_in.weight)\n",
        "    layer_in.bias.data.fill_(0.0)"
      ],
      "metadata": {
        "id": "YgLaex1pfhqz"
      },
      "execution_count": 16,
      "outputs": []
    },
    {
      "cell_type": "code",
      "source": [
        "# choose cross entropy loss function (equation 5.24 in the loss notes)\n",
        "loss_function = nn.CrossEntropyLoss()\n",
        "# construct SGD optimizer and initialize learning rate and momentum\n",
        "optimizer = torch.optim.SGD(model.parameters(), lr = 0.05, momentum=0.9)\n",
        "# object that decreases learning rate by half every 20 epochs\n",
        "scheduler = StepLR(optimizer, step_size=20, gamma=0.5)\n",
        "# create 100 dummy data points and store in data loader class\n",
        "x_train = torch.tensor(train_data_x.transpose().astype('float32'))\n",
        "y_train = torch.tensor(train_data_y.astype('long')).long()\n",
        "x_val= torch.tensor(val_data_x.transpose().astype('float32'))\n",
        "y_val = torch.tensor(val_data_y.astype('long')).long()\n",
        "\n",
        "# load the data into a class that creates the batches\n",
        "data_loader = DataLoader(TensorDataset(x_train,y_train), batch_size=100, shuffle=True, worker_init_fn=np.random.seed(1))\n",
        "\n",
        "# Initialize model weights\n",
        "model.apply(weights_init)\n",
        "\n",
        "# loop over the dataset n_epoch times\n",
        "n_epoch = 100\n",
        "# store the loss and the % correct at each epoch\n",
        "losses_train = np.zeros((n_epoch))\n",
        "errors_train = np.zeros((n_epoch))\n",
        "losses_val = np.zeros((n_epoch))\n",
        "errors_val = np.zeros((n_epoch))\n",
        "\n",
        "for epoch in range(n_epoch):\n",
        "  # loop over batches\n",
        "  for i, data in enumerate(data_loader):\n",
        "    # retrieve inputs and labels for this batch\n",
        "    x_batch, y_batch = data\n",
        "    # zero the parameter gradients\n",
        "    optimizer.zero_grad()\n",
        "    # forward pass -- calculate model output\n",
        "    pred = model(x_batch[:,None,:])\n",
        "    # compute the loss\n",
        "    loss = loss_function(pred, y_batch)\n",
        "    # backward pass\n",
        "    loss.backward()\n",
        "    # SGD update\n",
        "    optimizer.step()\n",
        "\n",
        "  # Run whole dataset to get statistics -- normally wouldn't do this\n",
        "  pred_train = model(x_train[:,None,:])\n",
        "  pred_val = model(x_val[:,None,:])\n",
        "  _, predicted_train_class = torch.max(pred_train.data, 1)\n",
        "  _, predicted_val_class = torch.max(pred_val.data, 1)\n",
        "  errors_train[epoch] = 100 - 100 * (predicted_train_class == y_train).float().sum() / len(y_train)\n",
        "  errors_val[epoch]= 100 - 100 * (predicted_val_class == y_val).float().sum() / len(y_val)\n",
        "  losses_train[epoch] = loss_function(pred_train, y_train).item()\n",
        "  losses_val[epoch]= loss_function(pred_val, y_val).item()\n",
        "  print(f'Epoch {epoch:5d}, train loss {losses_train[epoch]:.6f}, train error {errors_train[epoch]:3.2f},  val loss {losses_val[epoch]:.6f}, percent error {errors_val[epoch]:3.2f}')\n",
        "\n",
        "  # tell scheduler to consider updating learning rate\n",
        "  scheduler.step()\n",
        "\n",
        "# Plot the results\n",
        "fig, ax = plt.subplots()\n",
        "ax.plot(errors_train,'r-',label='train')\n",
        "ax.plot(errors_val,'b-',label='validation')\n",
        "ax.set_ylim(0,100); ax.set_xlim(0,n_epoch)\n",
        "ax.set_xlabel('Epoch'); ax.set_ylabel('Error')\n",
        "ax.set_title('Part I: Validation Result %3.2f'%(errors_val[-1]))\n",
        "ax.legend()\n",
        "plt.show()"
      ],
      "metadata": {
        "id": "NYw8I_3mmX5c",
        "colab": {
          "base_uri": "https://localhost:8080/",
          "height": 1000
        },
        "outputId": "5e5c226e-6e29-4c97-beeb-376a4a615be3"
      },
      "execution_count": 18,
      "outputs": [
        {
          "output_type": "stream",
          "name": "stdout",
          "text": [
            "Epoch     0, train loss 0.870938, train error 31.20,  val loss 0.874511, percent error 31.60\n",
            "Epoch     1, train loss 0.417313, train error 14.25,  val loss 0.465803, percent error 15.90\n",
            "Epoch     2, train loss 0.268508, train error 9.12,  val loss 0.381652, percent error 13.30\n",
            "Epoch     3, train loss 0.217069, train error 6.90,  val loss 0.358155, percent error 12.30\n",
            "Epoch     4, train loss 0.188769, train error 6.65,  val loss 0.332576, percent error 10.50\n",
            "Epoch     5, train loss 0.168388, train error 5.65,  val loss 0.377824, percent error 10.60\n",
            "Epoch     6, train loss 0.164640, train error 5.25,  val loss 0.353082, percent error 11.30\n",
            "Epoch     7, train loss 0.137129, train error 4.40,  val loss 0.313930, percent error 9.30\n",
            "Epoch     8, train loss 0.141430, train error 4.68,  val loss 0.340407, percent error 10.80\n",
            "Epoch     9, train loss 0.129061, train error 4.20,  val loss 0.332802, percent error 9.70\n",
            "Epoch    10, train loss 0.109756, train error 3.38,  val loss 0.322405, percent error 9.20\n",
            "Epoch    11, train loss 0.127862, train error 4.30,  val loss 0.392135, percent error 9.70\n",
            "Epoch    12, train loss 0.118807, train error 4.25,  val loss 0.312379, percent error 8.80\n",
            "Epoch    13, train loss 0.108790, train error 3.75,  val loss 0.364235, percent error 9.80\n",
            "Epoch    14, train loss 0.082613, train error 2.78,  val loss 0.313799, percent error 8.60\n",
            "Epoch    15, train loss 0.085378, train error 2.85,  val loss 0.320980, percent error 8.40\n",
            "Epoch    16, train loss 0.100243, train error 3.53,  val loss 0.339683, percent error 8.90\n",
            "Epoch    17, train loss 0.077631, train error 2.55,  val loss 0.315856, percent error 8.10\n",
            "Epoch    18, train loss 0.096864, train error 3.20,  val loss 0.307712, percent error 9.10\n",
            "Epoch    19, train loss 0.141690, train error 4.50,  val loss 0.391302, percent error 11.00\n",
            "Epoch    20, train loss 0.052790, train error 1.57,  val loss 0.314017, percent error 7.80\n",
            "Epoch    21, train loss 0.049020, train error 1.53,  val loss 0.305576, percent error 7.20\n",
            "Epoch    22, train loss 0.046514, train error 1.43,  val loss 0.320988, percent error 7.90\n",
            "Epoch    23, train loss 0.036440, train error 0.82,  val loss 0.324526, percent error 7.30\n",
            "Epoch    24, train loss 0.035352, train error 0.78,  val loss 0.323760, percent error 7.80\n",
            "Epoch    25, train loss 0.045550, train error 1.38,  val loss 0.346592, percent error 7.70\n",
            "Epoch    26, train loss 0.036619, train error 0.93,  val loss 0.350484, percent error 8.30\n",
            "Epoch    27, train loss 0.031646, train error 0.50,  val loss 0.327837, percent error 7.50\n",
            "Epoch    28, train loss 0.032412, train error 0.68,  val loss 0.332214, percent error 7.90\n",
            "Epoch    29, train loss 0.030891, train error 0.68,  val loss 0.355827, percent error 8.40\n",
            "Epoch    30, train loss 0.030449, train error 0.72,  val loss 0.352559, percent error 8.40\n",
            "Epoch    31, train loss 0.026460, train error 0.47,  val loss 0.344982, percent error 8.20\n",
            "Epoch    32, train loss 0.024643, train error 0.40,  val loss 0.360382, percent error 8.10\n",
            "Epoch    33, train loss 0.028087, train error 0.57,  val loss 0.370113, percent error 8.70\n",
            "Epoch    34, train loss 0.026947, train error 0.50,  val loss 0.378901, percent error 8.40\n",
            "Epoch    35, train loss 0.028540, train error 0.72,  val loss 0.378663, percent error 7.60\n",
            "Epoch    36, train loss 0.026317, train error 0.53,  val loss 0.359251, percent error 8.40\n",
            "Epoch    37, train loss 0.023349, train error 0.45,  val loss 0.375767, percent error 8.90\n",
            "Epoch    38, train loss 0.018451, train error 0.22,  val loss 0.377814, percent error 8.60\n",
            "Epoch    39, train loss 0.021373, train error 0.47,  val loss 0.379523, percent error 8.20\n",
            "Epoch    40, train loss 0.016812, train error 0.22,  val loss 0.389516, percent error 8.80\n",
            "Epoch    41, train loss 0.015688, train error 0.22,  val loss 0.386745, percent error 8.60\n",
            "Epoch    42, train loss 0.015773, train error 0.20,  val loss 0.391298, percent error 8.50\n",
            "Epoch    43, train loss 0.015255, train error 0.15,  val loss 0.393549, percent error 8.60\n",
            "Epoch    44, train loss 0.014784, train error 0.15,  val loss 0.392155, percent error 8.50\n",
            "Epoch    45, train loss 0.014401, train error 0.15,  val loss 0.397555, percent error 8.50\n",
            "Epoch    46, train loss 0.014261, train error 0.20,  val loss 0.404007, percent error 8.90\n",
            "Epoch    47, train loss 0.014331, train error 0.18,  val loss 0.406451, percent error 8.90\n",
            "Epoch    48, train loss 0.013663, train error 0.15,  val loss 0.403810, percent error 8.80\n",
            "Epoch    49, train loss 0.014005, train error 0.15,  val loss 0.409319, percent error 8.60\n",
            "Epoch    50, train loss 0.013177, train error 0.15,  val loss 0.409520, percent error 8.80\n",
            "Epoch    51, train loss 0.014546, train error 0.10,  val loss 0.411124, percent error 8.40\n",
            "Epoch    52, train loss 0.012992, train error 0.12,  val loss 0.409666, percent error 8.80\n",
            "Epoch    53, train loss 0.012365, train error 0.15,  val loss 0.410988, percent error 8.70\n",
            "Epoch    54, train loss 0.012167, train error 0.12,  val loss 0.414574, percent error 8.70\n",
            "Epoch    55, train loss 0.012220, train error 0.10,  val loss 0.413089, percent error 8.60\n",
            "Epoch    56, train loss 0.012001, train error 0.12,  val loss 0.423320, percent error 8.60\n",
            "Epoch    57, train loss 0.012284, train error 0.15,  val loss 0.422566, percent error 8.70\n",
            "Epoch    58, train loss 0.011538, train error 0.10,  val loss 0.424608, percent error 8.70\n",
            "Epoch    59, train loss 0.011142, train error 0.07,  val loss 0.423615, percent error 8.40\n",
            "Epoch    60, train loss 0.010845, train error 0.07,  val loss 0.425123, percent error 8.70\n",
            "Epoch    61, train loss 0.010727, train error 0.10,  val loss 0.423513, percent error 8.50\n",
            "Epoch    62, train loss 0.010736, train error 0.10,  val loss 0.426971, percent error 8.70\n",
            "Epoch    63, train loss 0.010603, train error 0.07,  val loss 0.428007, percent error 8.50\n",
            "Epoch    64, train loss 0.010494, train error 0.07,  val loss 0.429780, percent error 8.60\n",
            "Epoch    65, train loss 0.010411, train error 0.07,  val loss 0.429332, percent error 8.60\n",
            "Epoch    66, train loss 0.010384, train error 0.07,  val loss 0.431543, percent error 8.70\n",
            "Epoch    67, train loss 0.010245, train error 0.07,  val loss 0.430780, percent error 8.50\n",
            "Epoch    68, train loss 0.010170, train error 0.10,  val loss 0.432300, percent error 8.60\n",
            "Epoch    69, train loss 0.010049, train error 0.07,  val loss 0.432916, percent error 8.70\n",
            "Epoch    70, train loss 0.010155, train error 0.07,  val loss 0.435050, percent error 8.60\n",
            "Epoch    71, train loss 0.009896, train error 0.07,  val loss 0.433914, percent error 8.50\n",
            "Epoch    72, train loss 0.009856, train error 0.07,  val loss 0.435448, percent error 8.40\n",
            "Epoch    73, train loss 0.009766, train error 0.07,  val loss 0.436848, percent error 8.50\n",
            "Epoch    74, train loss 0.009667, train error 0.07,  val loss 0.437781, percent error 8.50\n",
            "Epoch    75, train loss 0.009598, train error 0.05,  val loss 0.440789, percent error 8.60\n",
            "Epoch    76, train loss 0.009523, train error 0.05,  val loss 0.438672, percent error 8.40\n",
            "Epoch    77, train loss 0.009436, train error 0.05,  val loss 0.440695, percent error 8.40\n",
            "Epoch    78, train loss 0.009408, train error 0.05,  val loss 0.438125, percent error 8.50\n",
            "Epoch    79, train loss 0.009506, train error 0.05,  val loss 0.444165, percent error 8.60\n",
            "Epoch    80, train loss 0.009260, train error 0.05,  val loss 0.441363, percent error 8.50\n",
            "Epoch    81, train loss 0.009206, train error 0.05,  val loss 0.442384, percent error 8.40\n",
            "Epoch    82, train loss 0.009163, train error 0.05,  val loss 0.442417, percent error 8.40\n",
            "Epoch    83, train loss 0.009162, train error 0.05,  val loss 0.442682, percent error 8.40\n",
            "Epoch    84, train loss 0.009093, train error 0.05,  val loss 0.444348, percent error 8.40\n",
            "Epoch    85, train loss 0.009057, train error 0.05,  val loss 0.444846, percent error 8.50\n",
            "Epoch    86, train loss 0.009030, train error 0.05,  val loss 0.444556, percent error 8.40\n",
            "Epoch    87, train loss 0.009033, train error 0.05,  val loss 0.445278, percent error 8.50\n",
            "Epoch    88, train loss 0.008962, train error 0.05,  val loss 0.445015, percent error 8.40\n",
            "Epoch    89, train loss 0.008949, train error 0.05,  val loss 0.445545, percent error 8.40\n",
            "Epoch    90, train loss 0.008892, train error 0.05,  val loss 0.447568, percent error 8.40\n",
            "Epoch    91, train loss 0.008858, train error 0.05,  val loss 0.446656, percent error 8.40\n",
            "Epoch    92, train loss 0.008855, train error 0.05,  val loss 0.446352, percent error 8.50\n",
            "Epoch    93, train loss 0.008797, train error 0.05,  val loss 0.448233, percent error 8.40\n",
            "Epoch    94, train loss 0.008761, train error 0.05,  val loss 0.449067, percent error 8.40\n",
            "Epoch    95, train loss 0.008734, train error 0.05,  val loss 0.448252, percent error 8.50\n",
            "Epoch    96, train loss 0.008687, train error 0.05,  val loss 0.448322, percent error 8.40\n",
            "Epoch    97, train loss 0.008667, train error 0.05,  val loss 0.450099, percent error 8.50\n",
            "Epoch    98, train loss 0.008645, train error 0.05,  val loss 0.449891, percent error 8.40\n",
            "Epoch    99, train loss 0.008610, train error 0.03,  val loss 0.450790, percent error 8.40\n"
          ]
        },
        {
          "output_type": "display_data",
          "data": {
            "text/plain": [
              "<Figure size 640x480 with 1 Axes>"
            ],
            "image/png": "[encoded data removed]"
          },
          "metadata": {}
        }
      ]
    }
  ]
}